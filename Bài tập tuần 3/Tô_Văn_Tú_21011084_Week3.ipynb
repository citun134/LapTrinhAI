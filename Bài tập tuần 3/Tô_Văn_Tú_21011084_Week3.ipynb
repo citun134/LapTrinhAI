{
  "nbformat": 4,
  "nbformat_minor": 0,
  "metadata": {
    "colab": {
      "provenance": []
    },
    "kernelspec": {
      "name": "python3",
      "display_name": "Python 3"
    },
    "language_info": {
      "name": "python"
    }
  },
  "cells": [
    {
      "cell_type": "markdown",
      "source": [
        "Bài 1"
      ],
      "metadata": {
        "id": "wab6LYTB7Eyy"
      }
    },
    {
      "cell_type": "code",
      "source": [
        "def bai1(d):\n",
        "  arr = sorted(d.keys())\n",
        "  for i in arr:\n",
        "    value = d[i]\n",
        "    print(value)\n",
        "\n",
        "d = {\n",
        "    0: \"zero\",\n",
        "    2: \"two\",\n",
        "    3: \"three\",\n",
        "    1: \"one\",\n",
        "    5: \"five\",\n",
        "    4: \"four\",\n",
        "    7: \"seven\",\n",
        "    6: \"six\",\n",
        "    8: \"eight\",\n",
        "    9: \"nine\",\n",
        "}\n",
        "\n",
        "bai1(d)\n"
      ],
      "metadata": {
        "colab": {
          "base_uri": "https://localhost:8080/"
        },
        "id": "95xKDJ1n6f3P",
        "outputId": "8d99ea2c-80d3-4ebf-d5f5-4a774bd78c7b"
      },
      "execution_count": null,
      "outputs": [
        {
          "output_type": "stream",
          "name": "stdout",
          "text": [
            "zero\n",
            "one\n",
            "two\n",
            "three\n",
            "four\n",
            "five\n",
            "six\n",
            "seven\n",
            "eight\n",
            "nine\n"
          ]
        }
      ]
    },
    {
      "cell_type": "markdown",
      "source": [
        "Bài 2"
      ],
      "metadata": {
        "id": "1pkB_nZX7KWp"
      }
    },
    {
      "cell_type": "code",
      "execution_count": null,
      "metadata": {
        "colab": {
          "base_uri": "https://localhost:8080/"
        },
        "id": "4o_bty5G00qJ",
        "outputId": "fbb3ac78-a6dd-4325-d6a2-640edd11ffeb"
      },
      "outputs": [
        {
          "output_type": "stream",
          "name": "stdout",
          "text": [
            "1\n",
            "2\n",
            "3\n",
            "4\n"
          ]
        }
      ],
      "source": [
        "def in_value_khac_nhau(d):\n",
        "  tap_value_da_in = set()\n",
        "\n",
        "  for value in d.values():\n",
        "    if value not in tap_value_da_in:\n",
        "      print(value)\n",
        "\n",
        "      tap_value_da_in.add(value)\n",
        "\n",
        "d = {\n",
        "    \"a\": 1,\n",
        "    \"b\": 2,\n",
        "    \"c\": 3,\n",
        "    \"d\": 1,\n",
        "    \"e\": 4,\n",
        "}\n",
        "\n",
        "in_value_khac_nhau(d)\n"
      ]
    },
    {
      "cell_type": "markdown",
      "source": [
        "Bài 3"
      ],
      "metadata": {
        "id": "V6WDYbBo7L6T"
      }
    },
    {
      "cell_type": "code",
      "source": [
        "def in_3_value_lon_nhat(d):\n",
        "  ba_value_lon_nhat = sorted(d.values(), reverse=True)[:3]\n",
        "\n",
        "  print(\"3 giá trị value lớn nhất:\")\n",
        "  for value in ba_value_lon_nhat:\n",
        "    print(value)\n",
        "\n",
        "d = {\n",
        "    \"a\": 10,\n",
        "    \"b\": 20,\n",
        "    \"c\": 30,\n",
        "    \"d\": 40,\n",
        "    \"e\": 50,\n",
        "}\n",
        "\n",
        "in_3_value_lon_nhat(d)"
      ],
      "metadata": {
        "colab": {
          "base_uri": "https://localhost:8080/"
        },
        "id": "Dn8t52qI4hlF",
        "outputId": "16a422ec-b0a6-4a8b-904a-3d569e688ce5"
      },
      "execution_count": null,
      "outputs": [
        {
          "output_type": "stream",
          "name": "stdout",
          "text": [
            "3 giá trị value lớn nhất:\n",
            "50\n",
            "40\n",
            "30\n"
          ]
        }
      ]
    },
    {
      "cell_type": "markdown",
      "source": [
        "Bài 4"
      ],
      "metadata": {
        "id": "3fKIVYrn7a2o"
      }
    },
    {
      "cell_type": "code",
      "source": [
        "def bai4(s):\n",
        "  d = {}\n",
        "  for i in s:\n",
        "    if i not in d:\n",
        "      d[i] = 0\n",
        "    d[i] += 1\n",
        "  return d\n",
        "\n",
        "s = \"dai hoc thuy loi\"\n",
        "\n",
        "print(bai4(s))"
      ],
      "metadata": {
        "colab": {
          "base_uri": "https://localhost:8080/"
        },
        "id": "Q3BYHh3F6SZ0",
        "outputId": "4c94eeca-88ac-4388-e7d1-78156f1ba2f1"
      },
      "execution_count": null,
      "outputs": [
        {
          "output_type": "stream",
          "name": "stdout",
          "text": [
            "{'d': 1, 'a': 1, 'i': 2, ' ': 3, 'h': 2, 'o': 2, 'c': 1, 't': 1, 'u': 1, 'y': 1, 'l': 1}\n"
          ]
        }
      ]
    },
    {
      "cell_type": "markdown",
      "source": [
        "Bài 5"
      ],
      "metadata": {
        "id": "gfBJkKkY8Dva"
      }
    },
    {
      "cell_type": "code",
      "source": [
        "def bai5(prices, stock):\n",
        "  list_keys = list(prices.keys())\n",
        "  list_tong = []\n",
        "  for i in list_keys:\n",
        "    stock_quantity = stock.get(i, 0)\n",
        "    price = prices[i] * stock_quantity\n",
        "    list_tong.append(price)\n",
        "  arr = sorted(zip(list_keys, list_tong), key = lambda x : x[1], reverse=True)\n",
        "  return arr\n",
        "\n",
        "prices = {\"banana\": 4, \"apple\": 2, \"orange\": 1.5, \"pear\": 3}\n",
        "stock = {\"banana\": 6, \"orange\": 32, \"pear\": 15}\n",
        "\n",
        "print(bai5(prices, stock))"
      ],
      "metadata": {
        "colab": {
          "base_uri": "https://localhost:8080/"
        },
        "id": "JlGynXtD78Tg",
        "outputId": "8b54f6a3-32a6-41b7-85d8-06ec196db49b"
      },
      "execution_count": null,
      "outputs": [
        {
          "output_type": "stream",
          "name": "stdout",
          "text": [
            "[('orange', 48.0), ('pear', 45), ('banana', 24), ('apple', 0)]\n"
          ]
        }
      ]
    },
    {
      "cell_type": "markdown",
      "source": [
        "Bài 6"
      ],
      "metadata": {
        "id": "N3Q1UDFfDXds"
      }
    },
    {
      "cell_type": "code",
      "source": [
        "import math\n",
        "import random\n",
        "def bai6():\n",
        "  precipitation_data = {}\n",
        "  months = [\"January\", \"February\", \"March\", \"April\", \"May\", \"June\", \"July\", \"August\", \"September\", \"October\", \"November\", \"December\"]\n",
        "\n",
        "  for year in range(2000, 2020):\n",
        "      for month_index, month in enumerate(months):\n",
        "          precipitation_data.setdefault(month, []).append(random.randint(100, 4000))\n",
        "\n",
        "  for month, precipitation_values in precipitation_data.items():\n",
        "      average_precipitation = sum(precipitation_values) / len(precipitation_values)\n",
        "      precipitation_data[month] = average_precipitation\n",
        "  return precipitation_data\n",
        "\n",
        "print(bai6())"
      ],
      "metadata": {
        "colab": {
          "base_uri": "https://localhost:8080/"
        },
        "id": "KpdHEzZm_sPu",
        "outputId": "35543c0c-8578-47bf-f2f8-51d21eae0d33"
      },
      "execution_count": null,
      "outputs": [
        {
          "output_type": "stream",
          "name": "stdout",
          "text": [
            "{'January': 1376.0, 'February': 1873.2, 'March': 2129.75, 'April': 1841.7, 'May': 1826.1, 'June': 2121.6, 'July': 2083.15, 'August': 1925.65, 'September': 2184.95, 'October': 2169.35, 'November': 2022.1, 'December': 1823.35}\n"
          ]
        }
      ]
    },
    {
      "cell_type": "markdown",
      "source": [
        "Bài 1 Try Except"
      ],
      "metadata": {
        "id": "Dit8GjM0PpNi"
      }
    },
    {
      "cell_type": "code",
      "source": [
        "def main():\n",
        "  try:\n",
        "    a = int(input(\"Nhập số nguyên a: \"))\n",
        "\n",
        "    b = int(input(\"Nhập số nguyên b: \"))\n",
        "\n",
        "    phan_so = a / b\n",
        "\n",
        "    print(\"Giá trị phân số a/b là:\", phan_so)\n",
        "  except ValueError:\n",
        "    print(\"Lỗi: Vui lòng nhập số nguyên!\")\n",
        "  except ZeroDivisionError:\n",
        "    print(\"Lỗi: Không thể chia cho 0!\")\n",
        "\n",
        "if __name__ == \"__main__\":\n",
        "  main()\n"
      ],
      "metadata": {
        "id": "rP1JC-wODuup",
        "colab": {
          "base_uri": "https://localhost:8080/"
        },
        "outputId": "f83802af-d989-4cee-f0f2-9079ccd6da29"
      },
      "execution_count": null,
      "outputs": [
        {
          "output_type": "stream",
          "name": "stdout",
          "text": [
            "Nhập số nguyên a: 1\n",
            "Nhập số nguyên b: 0\n",
            "Lỗi: Không thể chia cho 0!\n"
          ]
        }
      ]
    },
    {
      "cell_type": "code",
      "source": [
        "def check_triangle(a, b, c):\n",
        "    if not isinstance(a, (int, float)) or not isinstance(b, (int, float)) or not isinstance(c, (int, float)):\n",
        "        raise TypeError(\"All values must be numbers.\")\n",
        "\n",
        "    if any(value <= 0 for value in (a, b, c)):\n",
        "        raise ValueError(\"All values must be positive.\")\n",
        "\n",
        "    if a + b <= c or a + c <= b or b + c <= a:\n",
        "        return False\n",
        "\n",
        "    return True\n",
        "\n",
        "def main():\n",
        "    try:\n",
        "        a = float(input(\"Enter length of side a: \"))\n",
        "        b = float(input(\"Enter length of side b: \"))\n",
        "        c = float(input(\"Enter length of side c: \"))\n",
        "\n",
        "        if check_triangle(a, b, c):\n",
        "            print(\"The given values can form a triangle.\")\n",
        "        else:\n",
        "            print(\"The given values cannot form a triangle.\")\n",
        "    except ValueError as e:\n",
        "        print(f\"Error: {e}\")\n",
        "    except TypeError as e:\n",
        "        print(f\"Error: {e}\")\n",
        "\n",
        "if __name__ == \"__main__\":\n",
        "    main()\n"
      ],
      "metadata": {
        "colab": {
          "base_uri": "https://localhost:8080/"
        },
        "id": "pnHGmUoaPusT",
        "outputId": "22ff4f81-76e4-400f-db09-560bea28dbeb"
      },
      "execution_count": null,
      "outputs": [
        {
          "output_type": "stream",
          "name": "stdout",
          "text": [
            "Enter length of side a: 1\n",
            "Enter length of side b: 1\n",
            "Enter length of side c: 1\n",
            "The given values can form a triangle.\n"
          ]
        }
      ]
    },
    {
      "cell_type": "code",
      "source": [
        "1"
      ],
      "metadata": {
        "id": "CfE07rDMSWaO"
      },
      "execution_count": null,
      "outputs": []
    }
  ]
}