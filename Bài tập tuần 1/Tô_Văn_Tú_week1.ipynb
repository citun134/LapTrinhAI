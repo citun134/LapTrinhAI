{
  "nbformat": 4,
  "nbformat_minor": 0,
  "metadata": {
    "colab": {
      "provenance": []
    },
    "kernelspec": {
      "name": "python3",
      "display_name": "Python 3"
    },
    "language_info": {
      "name": "python"
    }
  },
  "cells": [
    {
      "cell_type": "markdown",
      "source": [
        "Bài 1"
      ],
      "metadata": {
        "id": "rxArOEcx7GIc"
      }
    },
    {
      "cell_type": "code",
      "source": [
        "def bai1_a():\n",
        "  a = float(input(\"A = \"))\n",
        "  b = float(input(\"B = \"))\n",
        "  c = float(input(\"C = \"))\n",
        "  delta = b*b - 4*a*c\n",
        "\n",
        "  if delta == 0:\n",
        "      print(\"Nghiem kep: x = \", str(-b/2/a))\n",
        "\n",
        "  if delta < 0:\n",
        "      print(\"Phuong trinh vo nghiem\")\n",
        "\n",
        "  if delta > 0:\n",
        "      print(\"X1 = \" + str((-b+delta**0.5)/2/a))\n",
        "      print(\"X2 = \" + str((-b-delta**0.5)/2/a))\n",
        "\n",
        "def giaiThua(n):\n",
        "    gt = 1\n",
        "    for i  in range(2, n+1):\n",
        "        gt = gt * i\n",
        "    return gt\n",
        "\n",
        "\n",
        "def bai1_c():\n",
        "  a = int(input(\"A = \"))\n",
        "  b = int(input(\"B = \"))\n",
        "  while(b>0):\n",
        "      if(a>b):\n",
        "          a, b = b, a%b\n",
        "      else:\n",
        "          a, b= a, b%a\n",
        "\n",
        "  print(\"Uoc chung lon nhat la: \", a)\n",
        "\n",
        "bai1_a()\n",
        "\n",
        "a = int(input(\"Nhap gia tri n: \"))\n",
        "print(\"N! = \", giaiThua(a))\n",
        "\n",
        "bai1_c()\n"
      ],
      "metadata": {
        "colab": {
          "base_uri": "https://localhost:8080/"
        },
        "id": "8HqDHy4y7JAE",
        "outputId": "c202c586-114e-41a9-c8ff-a226aac766a4"
      },
      "execution_count": null,
      "outputs": [
        {
          "output_type": "stream",
          "name": "stdout",
          "text": [
            "A = 5\n",
            "B = 6\n",
            "C = 4\n",
            "Phuong trinh vo nghiem\n",
            "Nhap gia tri n: 7\n",
            "N! =  5040\n",
            "A = 4\n",
            "B = 2\n",
            "Uoc chung lon nhat la:  2\n"
          ]
        }
      ]
    },
    {
      "cell_type": "markdown",
      "source": [
        "Bài 2"
      ],
      "metadata": {
        "id": "Edwo7_MN64Cl"
      }
    },
    {
      "cell_type": "code",
      "execution_count": null,
      "metadata": {
        "id": "SuNbrVUVsucl",
        "colab": {
          "base_uri": "https://localhost:8080/"
        },
        "outputId": "431bc7f1-59a5-44c2-e834-364dcbdee190"
      },
      "outputs": [
        {
          "output_type": "stream",
          "name": "stdout",
          "text": [
            "So tien sau 10 nam 16444745.635659896\n",
            "16444745\n"
          ]
        }
      ],
      "source": [
        "def bai2_a():\n",
        "  so_tien = 1e7\n",
        "  lai_suat = 5.1/100\n",
        "  so_nam = 0\n",
        "\n",
        "  while so_nam < 10:\n",
        "    so_nam += 1\n",
        "    so_tien = so_tien + (so_tien * lai_suat)\n",
        "  print(\"So tien sau 10 nam\", so_tien)\n",
        "\n",
        "bai2_a()"
      ]
    },
    {
      "cell_type": "code",
      "source": [
        "def bai2_b():\n",
        "  so_tien = 1e7\n",
        "  lai_suat = 5.1/100\n",
        "  so_nam = 0\n",
        "  while so_tien < 5e7:\n",
        "    so_nam += 1\n",
        "    so_tien = so_tien + (so_tien * lai_suat)\n",
        "    print(\"So tien sau \", so_nam, \"nam\", so_tien)\n",
        "\n",
        "  print(\"sau \", so_nam, \"ban se co it nhat 50tr\")\n",
        "\n",
        "bai2_b()"
      ],
      "metadata": {
        "colab": {
          "base_uri": "https://localhost:8080/"
        },
        "id": "lN7JDXvE3pXp",
        "outputId": "2f13f4b7-8f0f-46af-f60f-2a5b5d700fda"
      },
      "execution_count": null,
      "outputs": [
        {
          "output_type": "stream",
          "name": "stdout",
          "text": [
            "So tien sau  1 nam 10510000.0\n",
            "So tien sau  2 nam 11046010.0\n",
            "So tien sau  3 nam 11609356.51\n",
            "So tien sau  4 nam 12201433.69201\n",
            "So tien sau  5 nam 12823706.81030251\n",
            "So tien sau  6 nam 13477715.85762794\n",
            "So tien sau  7 nam 14165079.366366964\n",
            "So tien sau  8 nam 14887498.414051678\n",
            "So tien sau  9 nam 15646760.833168313\n",
            "So tien sau  10 nam 16444745.635659896\n",
            "So tien sau  11 nam 17283427.66307855\n",
            "So tien sau  12 nam 18164882.473895557\n",
            "So tien sau  13 nam 19091291.480064232\n",
            "So tien sau  14 nam 20064947.34554751\n",
            "So tien sau  15 nam 21088259.660170432\n",
            "So tien sau  16 nam 22163760.902839124\n",
            "So tien sau  17 nam 23294112.70888392\n",
            "So tien sau  18 nam 24482112.457036998\n",
            "So tien sau  19 nam 25730700.192345884\n",
            "So tien sau  20 nam 27042965.902155522\n",
            "So tien sau  21 nam 28422157.163165454\n",
            "So tien sau  22 nam 29871687.17848689\n",
            "So tien sau  23 nam 31395143.224589724\n",
            "So tien sau  24 nam 32996295.5290438\n",
            "So tien sau  25 nam 34679106.60102504\n",
            "So tien sau  26 nam 36447741.03767732\n",
            "So tien sau  27 nam 38306575.83059886\n",
            "So tien sau  28 nam 40260211.1979594\n",
            "So tien sau  29 nam 42313481.96905533\n",
            "So tien sau  30 nam 44471469.54947715\n",
            "So tien sau  31 nam 46739514.496500485\n",
            "So tien sau  32 nam 49123229.73582201\n",
            "So tien sau  33 nam 51628514.45234893\n",
            "sau  33 ban se co it nhat 50tr\n"
          ]
        }
      ]
    },
    {
      "cell_type": "markdown",
      "source": [
        "Bài 3"
      ],
      "metadata": {
        "id": "De7P_kJq77Ro"
      }
    },
    {
      "cell_type": "code",
      "source": [
        "def bai3(n):\n",
        "  print(\"Số n ở hệ cơ số 16:\", hex(n))\n",
        "  print(\"Số n ở hệ cơ số 8:\", oct(n))\n",
        "  print(\"Số n ở hệ cơ số 2:\", bin(n))\n",
        "\n",
        "n = int(input(\"Nhập số nguyên n: \"))\n",
        "bai3(n)"
      ],
      "metadata": {
        "colab": {
          "base_uri": "https://localhost:8080/"
        },
        "id": "4ENqkO174Sli",
        "outputId": "c0643492-b3c3-4282-faa8-2adc1945c73b"
      },
      "execution_count": null,
      "outputs": [
        {
          "output_type": "stream",
          "name": "stdout",
          "text": [
            "Nhập số nguyên n: 9\n",
            "Số n ở hệ cơ số 16: 0x9\n",
            "Số n ở hệ cơ số 8: 0o11\n",
            "Số n ở hệ cơ số 2: 0b1001\n"
          ]
        }
      ]
    },
    {
      "cell_type": "markdown",
      "source": [
        "Bài 4"
      ],
      "metadata": {
        "id": "vvdTKI8IFt3V"
      }
    },
    {
      "cell_type": "code",
      "source": [
        "def bai4():\n",
        "  a = int(input(\"Nhập số nguyên a: \"))\n",
        "  b = int(input(\"Nhập số nguyên b: \"))\n",
        "  result = a ** (1/b)\n",
        "  print(f\"Căn bậc {b} của {a} là: {result}\")\n",
        "\n",
        "bai4()"
      ],
      "metadata": {
        "colab": {
          "base_uri": "https://localhost:8080/"
        },
        "id": "p7gXdqvV8Idj",
        "outputId": "bea5ef6e-177f-4fef-db16-6282919ec4cf"
      },
      "execution_count": null,
      "outputs": [
        {
          "output_type": "stream",
          "name": "stdout",
          "text": [
            "Nhập số nguyên a: 4\n",
            "Nhập số nguyên b: 2\n",
            "Căn bậc 2 của 4 là: 2.0\n"
          ]
        }
      ]
    },
    {
      "cell_type": "code",
      "source": [
        "import math\n",
        "\n",
        "def bai5():\n",
        "    x = int(input(\"Nhập số nguyên x: \"))\n",
        "    x_str = str(x)\n",
        "\n",
        "    count_digits = len(x_str)\n",
        "\n",
        "    print(f\"Số chữ số của {x} là: {count_digits}\")\n",
        "\n",
        "    if count_digits > 0:\n",
        "        first_digit = x_str[0]\n",
        "        print(f\"Chữ số đầu tiên của {x} là: {first_digit}\")\n",
        "    else:\n",
        "        print(\"Số nguyên x không có chữ số.\")\n",
        "\n",
        "bai5()"
      ],
      "metadata": {
        "colab": {
          "base_uri": "https://localhost:8080/"
        },
        "id": "wA1o4aq_8xp1",
        "outputId": "9cc76f11-edc8-4312-fc89-ddb3670ba4c6"
      },
      "execution_count": null,
      "outputs": [
        {
          "output_type": "stream",
          "name": "stdout",
          "text": [
            "Nhập số nguyên x: 0123\n",
            "Số chữ số của 123 là: 3\n",
            "Chữ số đầu tiên của 123 là: 1\n"
          ]
        }
      ]
    },
    {
      "cell_type": "code",
      "source": [
        "# Hàm tính trung bình của 5 số\n",
        "def average(a, b, c, d, e):\n",
        "  return (a + b + c + d + e) / 5\n",
        "\n",
        "# Hàm tính diện tích tam giác khi biết độ dài ba cạnh\n",
        "def area(a, b, c):\n",
        "  # Sử dụng công thức Heron\n",
        "  s = (a + b + c) / 2\n",
        "  return math.sqrt(s * (s - a) * (s - b) * (s - c))\n",
        "\n",
        "# Hàm tính diện tích tam giác biết tọa độ (x, y) của ba đỉnh\n",
        "def area2(x1, y1, x2, y2, x3, y3):\n",
        "  # Sử dụng công thức tính diện tích tam giác theo tọa độ\n",
        "  return abs((x1 * y2 + x2 * y3 + x3 * y1) -\n",
        "              (x2 * y1 + x3 * y2 + x1 * y3)) / 2\n",
        "\n",
        "# Hàm tính tổng các chữ số của một số nguyên\n",
        "def total(n):\n",
        "  if n == 0:\n",
        "    return 0\n",
        "  else:\n",
        "    return n % 10 + total(int(n / 10))\n",
        "\n",
        "\n",
        "def fibo(n):\n",
        "  f = [0] * (n+1)\n",
        "  f[0] = 0\n",
        "  f[1] = 1\n",
        "  for i  in range(2, n+1):\n",
        "    f[i] = f[i-1] + f[i-2]\n",
        "  return f\n",
        "\n",
        "# Hàm kiểm tra số nguyên n có phải số Fibonacci hay không\n",
        "def is_fibo(n):\n",
        "  f = fibo(n)\n",
        "  a = n in f\n",
        "  print(\"5. True\" if a else \"5. False\")\n",
        "\n",
        "# Nhap so nguyen duong N va tinh gia tri ham F(N)\n",
        "def soNguyenDuong(n):\n",
        "  f = []\n",
        "  sum = 0\n",
        "  for i in range(1, n+1):\n",
        "    a = i*i\n",
        "    f.append(a)\n",
        "    sum = sum + f[i-1]\n",
        "  return sum\n",
        "\n",
        "# Diem trung binh hoc tap cua mot sinh vien\n",
        "def diemTrungBinh(n):\n",
        "  if n < 3.5:\n",
        "    print(\"7. Yeu\")\n",
        "  elif (n>=3.5) and (n<5):\n",
        "    print(\"7. Kem\")\n",
        "  elif (n>=5) and (n<6.5):\n",
        "    print(\"7. Trung Binh\")\n",
        "  elif (n>=6.5) and (n<8):\n",
        "    print(\"7. Kha\")\n",
        "  elif (n>=8) and (n<9):\n",
        "    print(\"7. Gioi\")\n",
        "  elif n>=9:\n",
        "    print(\"7. Xuat Sac\")\n",
        "  else:\n",
        "    print(\"???\")\n",
        "\n",
        "def bai8(a, b, c):\n",
        "  gtln = max(max(a, b), c)\n",
        "  print(\"8. max =\", gtln)\n",
        "\n",
        "  if (gtln == a) and (gtln == b):\n",
        "    print(\"8. a=b =>\", c)\n",
        "  elif (gtln == b) and (gtln == c):\n",
        "    print(\"8. b=c =>\", a)\n",
        "  elif (gtln == c) and (gtln == a):\n",
        "    print(\"8. c=a =>\", b)\n",
        "  else:\n",
        "    print(\"8. {}, {}, {}\".format(a, b, c))\n",
        "\n",
        "\n",
        "# Gọi các hàm và in kết quả\n",
        "print(\"1.\", average(1, 2, 3, 4, 5))\n",
        "print(\"2.\", area(3, 4, 5))\n",
        "print(\"3.\", area2(0, 0, 3, 4, 0, 5))\n",
        "print(\"4.\", total(123))\n",
        "is_fibo(7)\n",
        "print(\"6.\", soNguyenDuong(10))\n",
        "diemTrungBinh(9.9)\n",
        "a = int(input(\"a: \"))\n",
        "b = int(input(\"b: \"))\n",
        "c = int(input(\"c: \"))\n",
        "\n",
        "bai8(a, b, c)"
      ],
      "metadata": {
        "colab": {
          "base_uri": "https://localhost:8080/"
        },
        "id": "hlZT1on8CaO5",
        "outputId": "5c28f867-4636-45f5-ef1b-fbcbb6cb38e6"
      },
      "execution_count": null,
      "outputs": [
        {
          "output_type": "stream",
          "name": "stdout",
          "text": [
            "1. 3.0\n",
            "2. 6.0\n",
            "3. 7.5\n",
            "4. 6\n",
            "5. False\n",
            "6. 385\n",
            "7. Xuat Sac\n",
            "a: 1\n",
            "b: 2\n",
            "c: 3\n",
            "8. max = 3\n",
            "8. 1, 2, 3\n"
          ]
        }
      ]
    },
    {
      "cell_type": "code",
      "source": [
        "def bai8(a, b, c):\n",
        "  gtln = max(max(a, b), c)\n",
        "  print(\"max =\", gtln)\n",
        "\n",
        "  if (gtln == a) and (gtln == b):\n",
        "    print(\"a=b =>\", c)\n",
        "  if (gtln == b) and (gtln == c):\n",
        "    print(\"b=c =>\", a)\n",
        "  if (gtln == c) and (gtln == a):\n",
        "    print(\"c=a =>\", b)\n",
        "\n",
        "a = int(input(\"a: \"))\n",
        "b = int(input(\"b: \"))\n",
        "c = int(input(\"c: \"))\n",
        "\n",
        "bai8(a, b, c)"
      ],
      "metadata": {
        "colab": {
          "base_uri": "https://localhost:8080/"
        },
        "id": "_Cs34qpVIm1u",
        "outputId": "4daf3d52-e843-4108-af61-2c0b754d230d"
      },
      "execution_count": null,
      "outputs": [
        {
          "output_type": "stream",
          "name": "stdout",
          "text": [
            "a: 9\n",
            "b: 9\n",
            "c: 4\n",
            "max = 9\n",
            "a=b=> 4\n"
          ]
        }
      ]
    },
    {
      "cell_type": "code",
      "source": [],
      "metadata": {
        "id": "gQiyK-JmLfdz"
      },
      "execution_count": null,
      "outputs": []
    }
  ]
}